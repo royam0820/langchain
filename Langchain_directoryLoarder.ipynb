{
  "nbformat": 4,
  "nbformat_minor": 0,
  "metadata": {
    "colab": {
      "provenance": [],
      "mount_file_id": "1fS5jSsDWcGGvY_sLUgCrWdPGq6aZuACZ",
      "authorship_tag": "ABX9TyMTonZC6bQx/5dypdp/cBGV",
      "include_colab_link": true
    },
    "kernelspec": {
      "name": "python3",
      "display_name": "Python 3"
    },
    "language_info": {
      "name": "python"
    }
  },
  "cells": [
    {
      "cell_type": "markdown",
      "metadata": {
        "id": "view-in-github",
        "colab_type": "text"
      },
      "source": [
        "<a href=\"https://colab.research.google.com/github/royam0820/langchain/blob/main/Langchain_directoryLoarder.ipynb\" target=\"_parent\"><img src=\"https://colab.research.google.com/assets/colab-badge.svg\" alt=\"Open In Colab\"/></a>"
      ]
    },
    {
      "cell_type": "code",
      "source": [
        "!pip install langchain\n",
        "!pip install langchain-community\n",
        "!pip install openai\n",
        "!pip install tiktoken\n",
        "!pip install faiss-cpu\n",
        "!pip install pypdf"
      ],
      "metadata": {
        "id": "h_Vj47A1ykFl"
      },
      "execution_count": null,
      "outputs": []
    },
    {
      "cell_type": "code",
      "source": [
        "# Load TaskingAI API Key from environment variable\n",
        "import os\n",
        "from google.colab import userdata\n",
        "# Set the environment variable to be the value stored in user secrets.\n",
        "os.environ['OPENAI_API_KEY'] = userdata.get('OPENAI_API_KEY')"
      ],
      "metadata": {
        "id": "YAQKO2N31Wcd"
      },
      "execution_count": 6,
      "outputs": []
    },
    {
      "cell_type": "code",
      "execution_count": 14,
      "metadata": {
        "colab": {
          "base_uri": "https://localhost:8080/"
        },
        "id": "eGtZ3fZgybaa",
        "outputId": "7199fff8-86ca-46b0-ea48-94f743d4b5d8"
      },
      "outputs": [
        {
          "output_type": "stream",
          "name": "stderr",
          "text": [
            "WARNING:pypdf._reader:Ignoring wrong pointing object 11 0 (offset 0)\n",
            "WARNING:pypdf._reader:Ignoring wrong pointing object 13 0 (offset 0)\n",
            "WARNING:pypdf._reader:Ignoring wrong pointing object 109 0 (offset 0)\n"
          ]
        },
        {
          "output_type": "stream",
          "name": "stdout",
          "text": [
            "\n",
            "The article discusses the fear of artificial intelligence (AI) surpassing human intelligence and taking over the world. However, the authors argue that this fear is based on a misunderstanding of AI and its goals. They explain that intelligence does not inherently lead to a drive for dominance, and that this fear is influenced by our own evolutionary history as primates. The authors also mention other potential risks of AI, such as economic disruption and weaponization, and suggest that these should be the focus instead of the fear of a robot takeover.\n"
          ]
        }
      ],
      "source": [
        "from langchain.document_loaders import DirectoryLoader, PyPDFLoader\n",
        "from langchain.embeddings import OpenAIEmbeddings\n",
        "from langchain.vectorstores import FAISS\n",
        "from langchain.chains import RetrievalQA\n",
        "from langchain.llms import OpenAI\n",
        "\n",
        "# Step 1: Load PDF files from a directory\n",
        "pdf_directory = \"/content/drive/MyDrive/Documents\"\n",
        "loader = DirectoryLoader(pdf_directory, loader_cls=PyPDFLoader)\n",
        "documents = loader.load()\n",
        "\n",
        "# Step 2: Embed the documents\n",
        "embeddings = OpenAIEmbeddings()\n",
        "vectorstore = FAISS.from_documents(documents, embeddings)\n",
        "\n",
        "# Step 3: Set up the Retrieval-Augmented Generation system\n",
        "retrieval_qa = RetrievalQA.from_chain_type(\n",
        "    llm=OpenAI(),\n",
        "    chain_type=\"stuff\",\n",
        "    retriever=vectorstore.as_retriever()\n",
        ")\n",
        "\n",
        "# Step 4: Ask a question\n",
        "#question = \"What is the main topic of the documents?\"\n",
        "question = \"give me a summary about the document entitled 'Don't fear the terminator'\"\n",
        "answer = retrieval_qa.run(question)\n",
        "print(answer)\n"
      ]
    },
    {
      "cell_type": "code",
      "source": [
        "from pprint import pprint"
      ],
      "metadata": {
        "id": "sef0L-7yq6Jr"
      },
      "execution_count": 16,
      "outputs": []
    },
    {
      "cell_type": "code",
      "source": [
        "pprint(answer)"
      ],
      "metadata": {
        "colab": {
          "base_uri": "https://localhost:8080/"
        },
        "id": "FgjfOfoAq7Iw",
        "outputId": "e154f555-dcf4-4b47-9793-51a06e10d1ae"
      },
      "execution_count": 17,
      "outputs": [
        {
          "output_type": "stream",
          "name": "stdout",
          "text": [
            "('\\n'\n",
            " 'The article discusses the fear of artificial intelligence (AI) surpassing '\n",
            " 'human intelligence and taking over the world. However, the authors argue '\n",
            " 'that this fear is based on a misunderstanding of AI and its goals. They '\n",
            " 'explain that intelligence does not inherently lead to a drive for dominance, '\n",
            " 'and that this fear is influenced by our own evolutionary history as '\n",
            " 'primates. The authors also mention other potential risks of AI, such as '\n",
            " 'economic disruption and weaponization, and suggest that these should be the '\n",
            " 'focus instead of the fear of a robot takeover.')\n"
          ]
        }
      ]
    },
    {
      "cell_type": "code",
      "source": [
        "# Step 4: Ask a question\n",
        "#question = \"What is the main topic of the documents?\"\n",
        "question = \"Que sont les lois de mis à l'échelle énoncés par Andrej Karpathy\"\n",
        "answer = retrieval_qa.run(question)\n",
        "pprint(answer)\n"
      ],
      "metadata": {
        "colab": {
          "base_uri": "https://localhost:8080/"
        },
        "id": "vCgZIWIuq-iL",
        "outputId": "43bed653-e8cd-4399-8b0b-6ea7b2192a24"
      },
      "execution_count": 20,
      "outputs": [
        {
          "output_type": "stream",
          "name": "stdout",
          "text": [
            "(\" Les lois de mise à l'échelle énoncées par Andrej Karpathy sont que la \"\n",
            " 'performance des LLM est une fonction fluide et prévisible du nombre de '\n",
            " 'paramètres dans le réseau (model size) et de la quantité de texte sur '\n",
            " 'laquelle nous nous entraînons (Number of training tokens), et que ces '\n",
            " 'tendances ne montrent aucun signe de \"plafonnement\". Cela signifie que nous '\n",
            " 'pouvons nous attendre à encore plus d\\'intelligence \"gratuitement\" en '\n",
            " 'augmentant la taille des LLM.')\n"
          ]
        }
      ]
    }
  ]
}